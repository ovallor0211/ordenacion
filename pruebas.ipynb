{
 "cells": [
  {
   "cell_type": "code",
   "execution_count": 1,
   "metadata": {},
   "outputs": [
    {
     "name": "stdout",
     "output_type": "stream",
     "text": [
      "pygame 2.6.1 (SDL 2.28.4, Python 3.11.4)\n",
      "Hello from the pygame community. https://www.pygame.org/contribute.html\n"
     ]
    }
   ],
   "source": [
    "import pygame\n"
   ]
  },
  {
   "cell_type": "code",
   "execution_count": 2,
   "metadata": {},
   "outputs": [],
   "source": [
    "import pygame_widgets"
   ]
  },
  {
   "cell_type": "code",
   "execution_count": 3,
   "metadata": {},
   "outputs": [],
   "source": [
    "n = []\n",
    "contador = 0\n",
    "\n",
    "def swap(i):\n",
    "    global n\n",
    "    a = n[i]\n",
    "    n[i] = n[i+1]\n",
    "    n[i+1] = a\n",
    "\n",
    "def agregarNumero():\n",
    "    global n\n",
    "    n.append(int(tNumero.getText()))\n",
    "    tResultado.setText(n)\n",
    "\n",
    "def ordenar():\n",
    "    parar = 0\n",
    "    global contador\n",
    "    global n\n",
    "    for i in range(len(n)-1):\n",
    "        parar = 1\n",
    "        for j in range(len(n)-1):\n",
    "            if n[j]>n[j+1]:\n",
    "                swap(j)\n",
    "                contador +=1\n",
    "                parar = 0\n",
    "        if parar == 1:\n",
    "            break\n",
    "    tResultado.setText(n)"
   ]
  },
  {
   "cell_type": "code",
   "execution_count": 4,
   "metadata": {},
   "outputs": [],
   "source": [
    "from pygame_widgets.textbox import TextBox\n",
    "from pygame_widgets.button import Button \n",
    "pygame.init()\n",
    "win = pygame.display.set_mode((600,600))\n",
    "button = Button(\n",
    "    win, 100, 100, 300, 100,\n",
    "    text = 'Agregar', fontSize=50, margin=20, inactiveColour=(200, 50, 0),\n",
    "    hoverColour=(150, 0,0 ), pressedColour=(0, 200, 20), radius=20,\n",
    "    onClick=lambda: agregarNumero()\n",
    ")\n",
    "button2 = Button(\n",
    "    win, 100, 210, 300, 100,\n",
    "    text = 'Ordenar', fontsize = 50, margin = 20, inactiveColour = (200, 50, 0),\n",
    "    hoverColour = (150, 0, 0), pressedColour = (0, 200, 20), radius = 20,\n",
    "    onClick = lambda: ordenar()\n",
    ")\n",
    "tNumero = TextBox(win, 100, 10, 300, 70, fontSize = 40)\n",
    "tResultado = TextBox(win, 100, 320, 300, 70, fontSize = 40)\n",
    "run = True\n",
    "while run:\n",
    "    events = pygame.event.get()\n",
    "    for event in events:\n",
    "        if event.type == pygame.QUIT:\n",
    "            pygame.quit()\n",
    "            run = False\n",
    "            break\n",
    "    if run==False:\n",
    "        break\n",
    "    win.fill((255, 255, 255))\n",
    "\n",
    "    pygame_widgets.update(events)\n",
    "    pygame.display.update()"
   ]
  }
 ],
 "metadata": {
  "kernelspec": {
   "display_name": "Python 3.11.4 ('base')",
   "language": "python",
   "name": "python3"
  },
  "language_info": {
   "codemirror_mode": {
    "name": "ipython",
    "version": 3
   },
   "file_extension": ".py",
   "mimetype": "text/x-python",
   "name": "python",
   "nbconvert_exporter": "python",
   "pygments_lexer": "ipython3",
   "version": "3.11.4"
  },
  "orig_nbformat": 4,
  "vscode": {
   "interpreter": {
    "hash": "5b9cda52f5518a7ff17dfb239c7436c392b03b5b814d06004eac05496c42c8c2"
   }
  }
 },
 "nbformat": 4,
 "nbformat_minor": 2
}
