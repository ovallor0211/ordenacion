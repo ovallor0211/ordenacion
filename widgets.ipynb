{
 "cells": [
  {
   "cell_type": "code",
   "execution_count": 1,
   "metadata": {},
   "outputs": [],
   "source": [
    "import ipywidgets as wid"
   ]
  },
  {
   "cell_type": "code",
   "execution_count": 2,
   "metadata": {},
   "outputs": [],
   "source": [
    "def saludar(p):\n",
    "   texto.value = \"Hola\"\n",
    "\n",
    "saludo = wid.Button(description=\"aceptar\")\n",
    "texto = wid.Text()\n",
    "saludo.on_click(saludar)"
   ]
  },
  {
   "cell_type": "code",
   "execution_count": 4,
   "metadata": {},
   "outputs": [
    {
     "data": {
      "application/vnd.jupyter.widget-view+json": {
       "model_id": "c84fce8ed37c476299a07184bf806bcb",
       "version_major": 2,
       "version_minor": 0
      },
      "text/plain": [
       "Button(description='aceptar', style=ButtonStyle())"
      ]
     },
     "metadata": {},
     "output_type": "display_data"
    },
    {
     "data": {
      "application/vnd.jupyter.widget-view+json": {
       "model_id": "571a62efe25b4ecfad7ad186ce3adedf",
       "version_major": 2,
       "version_minor": 0
      },
      "text/plain": [
       "Text(value='')"
      ]
     },
     "metadata": {},
     "output_type": "display_data"
    }
   ],
   "source": [
    "display(saludo, texto)"
   ]
  },
  {
   "cell_type": "code",
   "execution_count": 36,
   "metadata": {},
   "outputs": [
    {
     "data": {
      "application/vnd.jupyter.widget-view+json": {
       "model_id": "66d44fe6f7544a3ca47a35464fe852a4",
       "version_major": 2,
       "version_minor": 0
      },
      "text/plain": [
       "IntText(value=80, description='Número')"
      ]
     },
     "metadata": {},
     "output_type": "display_data"
    }
   ],
   "source": [
    "pepe=wid.IntText(\n",
    "    value=80,\n",
    "    description='Número',\n",
    "    disabled=False\n",
    ")\n",
    "display(pepe)"
   ]
  },
  {
   "cell_type": "code",
   "execution_count": 40,
   "metadata": {},
   "outputs": [
    {
     "data": {
      "application/vnd.jupyter.widget-view+json": {
       "model_id": "edb4e523e5c24179998b4477ef5e6501",
       "version_major": 2,
       "version_minor": 0
      },
      "text/plain": [
       "FloatProgress(value=0.0, bar_style='info', description='Cargando:', max=10.0, style=ProgressStyle(bar_color='#…"
      ]
     },
     "metadata": {},
     "output_type": "display_data"
    }
   ],
   "source": [
    "import time\n",
    "import ipywidgets as wid\n",
    "from IPython.display import display\n",
    "\n",
    "progressbar = wid.FloatProgress(\n",
    "    value=0,\n",
    "    min=0,\n",
    "    max=10.0,\n",
    "    description='Cargando:',\n",
    "    bar_style='info',\n",
    "    style={'bar_color': '#ffff00'},\n",
    "    orientation='horizontal'\n",
    ")\n",
    "\n",
    "display(progressbar)\n",
    "\n",
    "def get_gradient_color(value, max_value):\n",
    "    percent = value / max_value\n",
    "    red = int(255 * (1 - percent))\n",
    "    green = int(255 * percent)\n",
    "    return f\"rgb({red}, {green}, 0)\"\n",
    "\n",
    "def animate_progress():\n",
    "    for i in range(11):\n",
    "        progressbar.value = i\n",
    "        progressbar.style = {'bar_color': get_gradient_color(i, 10)}\n",
    "        time.sleep(0.5)\n",
    "\n",
    "animate_progress()\n"
   ]
  },
  {
   "cell_type": "code",
   "execution_count": 3,
   "metadata": {},
   "outputs": [
    {
     "name": "stdout",
     "output_type": "stream",
     "text": [
      "7.8.5\n"
     ]
    }
   ],
   "source": [
    "print(wid.__version__)"
   ]
  }
 ],
 "metadata": {
  "kernelspec": {
   "display_name": "Python 3.11.4 ('base')",
   "language": "python",
   "name": "python3"
  },
  "language_info": {
   "codemirror_mode": {
    "name": "ipython",
    "version": 3
   },
   "file_extension": ".py",
   "mimetype": "text/x-python",
   "name": "python",
   "nbconvert_exporter": "python",
   "pygments_lexer": "ipython3",
   "version": "3.11.4"
  },
  "orig_nbformat": 4,
  "vscode": {
   "interpreter": {
    "hash": "5b9cda52f5518a7ff17dfb239c7436c392b03b5b814d06004eac05496c42c8c2"
   }
  }
 },
 "nbformat": 4,
 "nbformat_minor": 2
}
