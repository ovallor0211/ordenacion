{
 "cells": [
  {
   "cell_type": "code",
   "execution_count": 1,
   "metadata": {},
   "outputs": [],
   "source": [
    "import ipywidgets as wid"
   ]
  },
  {
   "cell_type": "code",
   "execution_count": 19,
   "metadata": {},
   "outputs": [],
   "source": [
    "def swap(i):\n",
    "    global n\n",
    "    a = n[i]\n",
    "    n[i] = n[i+1]\n",
    "    n[i+1] = a\n",
    "contador = 0\n",
    "n = []"
   ]
  },
  {
   "cell_type": "code",
   "execution_count": 21,
   "metadata": {},
   "outputs": [],
   "source": [
    "def agregar(p):\n",
    "    n.append(int(input.value))\n",
    "    output.value=str(n)\n",
    "def ordenar(p):\n",
    "    parar = 0\n",
    "    global contador\n",
    "    global n\n",
    "    for i in range(len(n)-1):\n",
    "        parar = 1\n",
    "        for j in range(len(n)-1):\n",
    "            if n[j]>n[j+1]:\n",
    "                swap(j)\n",
    "                contador +=1\n",
    "                parar = 0\n",
    "        if parar == 1:\n",
    "            break\n",
    "    output.value = str(n)\n",
    "\n",
    "boton1_agregar = wid.Button(description=\"agregar\")\n",
    "boton2_ordenar = wid.Button(description=\"ordenar\")\n",
    "input = wid.Text()\n",
    "output = wid.Text()\n",
    "boton1_agregar.on_click(agregar)\n",
    "boton2_ordenar.on_click(ordenar)"
   ]
  },
  {
   "cell_type": "code",
   "execution_count": 22,
   "metadata": {},
   "outputs": [
    {
     "data": {
      "application/vnd.jupyter.widget-view+json": {
       "model_id": "80447014ea704c829fa6a8bfd7278a97",
       "version_major": 2,
       "version_minor": 0
      },
      "text/plain": [
       "Text(value='')"
      ]
     },
     "metadata": {},
     "output_type": "display_data"
    },
    {
     "data": {
      "application/vnd.jupyter.widget-view+json": {
       "model_id": "ae1a53037f8047409196bb5838fb890f",
       "version_major": 2,
       "version_minor": 0
      },
      "text/plain": [
       "Button(description='agregar', style=ButtonStyle())"
      ]
     },
     "metadata": {},
     "output_type": "display_data"
    },
    {
     "data": {
      "application/vnd.jupyter.widget-view+json": {
       "model_id": "08c3542ac362482a9a57fd5bfe88ab6b",
       "version_major": 2,
       "version_minor": 0
      },
      "text/plain": [
       "Button(description='ordenar', style=ButtonStyle())"
      ]
     },
     "metadata": {},
     "output_type": "display_data"
    },
    {
     "data": {
      "application/vnd.jupyter.widget-view+json": {
       "model_id": "10cddbc7a3424f72a2a1518155ea5aa5",
       "version_major": 2,
       "version_minor": 0
      },
      "text/plain": [
       "Text(value='')"
      ]
     },
     "metadata": {},
     "output_type": "display_data"
    }
   ],
   "source": [
    "display(input, boton1_agregar, boton2_ordenar, output)"
   ]
  },
  {
   "cell_type": "code",
   "execution_count": 3,
   "metadata": {},
   "outputs": [
    {
     "name": "stdout",
     "output_type": "stream",
     "text": [
      "7.8.5\n"
     ]
    }
   ],
   "source": [
    "print(wid.__version__)"
   ]
  }
 ],
 "metadata": {
  "kernelspec": {
   "display_name": "Python 3.11.4 ('base')",
   "language": "python",
   "name": "python3"
  },
  "language_info": {
   "codemirror_mode": {
    "name": "ipython",
    "version": 3
   },
   "file_extension": ".py",
   "mimetype": "text/x-python",
   "name": "python",
   "nbconvert_exporter": "python",
   "pygments_lexer": "ipython3",
   "version": "3.11.4"
  },
  "orig_nbformat": 4,
  "vscode": {
   "interpreter": {
    "hash": "5b9cda52f5518a7ff17dfb239c7436c392b03b5b814d06004eac05496c42c8c2"
   }
  }
 },
 "nbformat": 4,
 "nbformat_minor": 2
}
